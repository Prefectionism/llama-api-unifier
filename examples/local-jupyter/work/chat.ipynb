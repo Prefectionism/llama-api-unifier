{
 "cells": [
  {
   "cell_type": "code",
   "execution_count": null,
   "id": "a3941a09-b3e6-4d0d-8dca-913c1b4fe3ac",
   "metadata": {},
   "outputs": [],
   "source": [
    "!pip install langchain langchain-openai"
   ]
  },
  {
   "cell_type": "code",
   "execution_count": 2,
   "id": "d1106a13-73de-444e-bf8a-7e6dd764f08e",
   "metadata": {},
   "outputs": [],
   "source": [
    "from langchain_openai import ChatOpenAI\n",
    "\n",
    "model = ChatOpenAI(model=\"mistral\", openai_api_base=\"http://platform:8080/oai/v1\", openai_api_key=\"NA\")"
   ]
  },
  {
   "cell_type": "code",
   "execution_count": null,
   "id": "45e12094-010e-47f2-9993-8a206bb097ad",
   "metadata": {},
   "outputs": [],
   "source": [
    "from langchain_core.prompts import ChatPromptTemplate, MessagesPlaceholder\n",
    "\n",
    "prompt = ChatPromptTemplate.from_messages(\n",
    "    [\n",
    "        (\"system\", \"You are a helpful assistant.\"),\n",
    "        MessagesPlaceholder(\"chat_history\", optional=True),\n",
    "        (\"human\", \"{inp